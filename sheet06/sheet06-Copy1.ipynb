{
 "cells": [
  {
   "cell_type": "markdown",
   "metadata": {},
   "source": [
    "# Fisher Linear Discriminant\n",
    "\n",
    "In this exercise, you will apply Fisher Linear Discriminant as described in Chapter 3.8.2 of Duda et al. on the UCI Abalone dataset. A description of the dataset is given at the page https://archive.ics.uci.edu/ml/datasets/Abalone. The following two methods are provided for your convenience: \n",
    "\n",
    "\n",
    "* **`utils.Abalone.__init__(self)`** reads the Abalone data and instantiates three data matrices of size (1528, 7), (1307, 7), and (1342, 7) corresponding to the three classes in the dataset: *male (M)*, *female (F)*, and *infant (I)*.\n",
    "\n",
    "\n",
    "* **`utils.Abalone.plot(self,w)`** produces a histogram of the data when projected onto a vector `w`, and where each class is shown in a different color.\n",
    "\n",
    "\n",
    "Sample code that makes use of these two methods is given below. It loads the data, looks at the shape of instantiated matrices, and plots various projections of the data: (1) projection on the first dimension of the data, and (2) projection on a random direction."
   ]
  },
  {
   "cell_type": "code",
   "execution_count": 1,
   "metadata": {},
   "outputs": [
    {
     "name": "stdout",
     "output_type": "stream",
     "text": [
      "((1528, 7), (1307, 7), (1342, 7))\n"
     ]
    },
    {
     "name": "stderr",
     "output_type": "stream",
     "text": [
      "/Users/beckius/anaconda3/envs/py27/lib/python2.7/site-packages/matplotlib/axes/_axes.py:6571: UserWarning: The 'normed' kwarg is deprecated, and has been replaced by the 'density' kwarg.\n",
      "  warnings.warn(\"The 'normed' kwarg is deprecated, and has been \"\n"
     ]
    },
    {
     "data": {
      "image/png": "[encoded data removed]",
      "text/plain": [
       "<Figure size 432x288 with 1 Axes>"
      ]
     },
     "metadata": {
      "needs_background": "light"
     },
     "output_type": "display_data"
    },
    {
     "data": {
      "image/png": "[encoded data removed]",
      "text/plain": [
       "<Figure size 432x288 with 1 Axes>"
      ]
     },
     "metadata": {
      "needs_background": "light"
     },
     "output_type": "display_data"
    }
   ],
   "source": [
    "%matplotlib inline\n",
    "import utils,numpy\n",
    "\n",
    "# Load the data\n",
    "abalone = utils.Abalone()\n",
    "\n",
    "# Print dataset size for each class\n",
    "print(abalone.M.shape,abalone.F.shape, abalone.I.shape)\n",
    "\n",
    "# Project data on the first dimension\n",
    "w1 = numpy.array([1,0,0,0,0,0,0])\n",
    "abalone.plot(w1,'projection on the first dimension')\n",
    "\n",
    "# Project data on a random direction\n",
    "w2 = numpy.random.normal(0,1,[7])\n",
    "w2 /= (w2**2).sum()**.5\n",
    "abalone.plot(w2,'projection on a random direction')"
   ]
  },
  {
   "cell_type": "markdown",
   "metadata": {},
   "source": [
    "## Implementation (30 P)\n",
    "\n",
    "* **Create a method `w = fisher(X1,X2)` that takes as input the data for two classes and returns the Fisher linear discriminant.**\n",
    "\n",
    "\n",
    "* **Create a method `J(X1,X2,w)` that evaluates the objective defined in Equation 96 of Duda et al. for an arbitrary projection vector `w`.**\n",
    "\n",
    "\n",
    "* **Create a method `z = phi(X)` that returns a quadratic expansion for each data point `x` in the dataset. Such expansion consists of the vector `x` itself, to which we concatenate the vector of all pairwise products between elements of `x`.** In other words, letting $x = (x_1,\\dots,x_d)$ denote the $d$-dimensional data point, the quadratic expansion for this data point is a $d \\cdot (d+3)/2$ dimensional vector given by $\\phi(x) = (x_i)_{1 \\leq i \\leq d} \\cup (x_i x_j)_{1 \\leq i \\leq j \\leq d}$. For example, the quadratic expansion for $d=2$ is $(x_1,x_2,x_1^2,x_2^2,x_1 x_2)$."
   ]
  },
  {
   "cell_type": "code",
   "execution_count": null,
   "metadata": {
    "collapsed": true
   },
   "outputs": [],
   "source": [
    "import numpy as np\n",
    "\n",
    "def fischer(X1,X2):\n",
    "    w1 = np.mean(X1,axis=0)\n",
    "    w2 = np.mean(X2,axis=0)\n",
    "    \n",
    "    #Sb = np.dot((w1 - w2).reshape((w1.shape[0],1)),(w1 - w2).reshape((1,w1.shape[0]))\n",
    "    #Matrix with w in lines\n",
    "    W1 = np.dot(np.ones((X1.shape[0],1)), w1.reshape((1,w1.shape[0])))\n",
    "    W2 = np.dot(np.ones((X2.shape[0],1)), w2.reshape((1,w2.shape[0])))\n",
    "    \n",
    "    Sw = np.dot((X1 - W1).T,(X1 - W1)) + np.dot((X2 - W2).T,(X2 - W2))\n",
    "    \n",
    "    w = np.dot(np.linalg.inv(Sw),(w1-w2).reshape((w1.shape[0],1)))\n",
    "    w /= (w**2).sum()**0.5\n",
    "    return w\n",
    "\n",
    "\n",
    "def J(X1,X2,w):\n",
    "    w1 = np.mean(X1,axis=0)\n",
    "    w2 = np.mean(X2,axis=0)\n",
    "    \n",
    "    Sb = np.dot((w1 - w2).reshape((w1.shape[0],1)),(w1 - w2).reshape((1,w1.shape[0])))\n",
    "    \n",
    "    W1 = np.dot(np.ones((X1.shape[0],1)), w1.reshape((1,w1.shape[0])))\n",
    "    W2 = np.dot(np.ones((X2.shape[0],1)), w2.reshape((1,w2.shape[0])))\n",
    "                \n",
    "    Sw = np.dot((X1 - W1).T,(X1 - W1)) + np.dot((X2 - W2).T,(X2 - W2))\n",
    "    \n",
    "    \n",
    "    w1sh=w.reshape((1,w1.shape[0]))\n",
    "    wsh1=w.reshape((w1.shape[0],1))\n",
    "                   \n",
    "    wSbw = np.dot(np.dot(w1sh,Sb),wsh1)\n",
    "    wSww = np.dot(np.dot(w1sh,Sw),wsh1)\n",
    "    return wSbw / wSww\n",
    "\n",
    "\n",
    "def phi(X):\n",
    "    n = X.shape[0]\n",
    "    d = X.shape[1]\n",
    "    P = np.empty((n,d*(d+3)/2))\n",
    "    for i in range(n):\n",
    "        x = X[i,:] \n",
    "        xx = np.dot(x.reshape((d,1)),x.reshape((1,d)))\n",
    "        diags = np.arange(0,d)\n",
    "        pxx = np.concatenate(map(lambda k: np.diag(xx,k), diags))\n",
    "        p = np.concatenate((x,pxx))\n",
    "        P[i] = p\n",
    "        \n",
    "    return P\n",
    "                \n",
    "                "
   ]
  },
  {
   "cell_type": "markdown",
   "metadata": {},
   "source": [
    "## Analysis (20 P)\n",
    "\n",
    "* **Print the value of `J(w)` for each discriminated pair of classes (M/F, M/I, F/I), and for several values of `w`:**\n",
    "\n",
    "  * `w` is a vector that projects the data on the each dimension of the data.\n",
    "  * `w` is the difference between the mean vectors of the two classes.\n",
    "  * `w` is the difference between the mean vectors of the two classes (after quadratic expansion of the data).\n",
    "  * `w` is the Fisher linear discriminant.\n",
    "  * `w` is the Fisher linear discriminant (after quadratic expansion of the data).\n",
    "\n",
    "\n",
    "* **For the simple Fisher linear discriminant, plot a histogram of the projected data for each discriminated pair of classes using the function `utils.Abalone.plot()`.**"
   ]
  },
  {
   "cell_type": "code",
   "execution_count": null,
   "metadata": {},
   "outputs": [
    {
     "name": "stdout",
     "output_type": "stream",
     "text": [
      "         w     M/F        M/I          F/I\n",
      "-----------------------------------------------\n",
      "Dimension 0: 0.00001      0.00056       0.00090\n",
      "Dimension 1: 0.00001      0.00060       0.00097\n",
      "Dimension 2: 0.00001      0.00058       0.00072\n",
      "Dimension 3: 0.00001      0.00070       0.00108\n",
      "Dimension 4: 0.00000      0.00060       0.00088\n",
      "Dimension 5: 0.00001      0.00069       0.00109\n",
      "Dimension 6: 0.00001      0.00066       0.00100\n",
      "-----------------------------------------------\n",
      "Means Linear: 0.00001      0.00070       0.00108\n",
      "Means Quadratic: 0.00000      0.00054       0.00083\n",
      "-----------------------------------------------\n",
      "Fisher Linear: 0.00004      0.00075       0.00120\n",
      "Fisher Quadratic: 0.00005      0.00101       0.00154\n"
     ]
    },
    {
     "data": {
      "image/png": "[encoded data removed]",
      "text/plain": [
       "<Figure size 432x288 with 1 Axes>"
      ]
     },
     "metadata": {
      "needs_background": "light"
     },
     "output_type": "display_data"
    },
    {
     "data": {
      "image/png": "[encoded data removed]",
      "text/plain": [
       "<Figure size 432x288 with 1 Axes>"
      ]
     },
     "metadata": {
      "needs_background": "light"
     },
     "output_type": "display_data"
    },
    {
     "data": {
      "image/png": "[encoded data removed]",
      "text/plain": [
       "<Figure size 432x288 with 1 Axes>"
      ]
     },
     "metadata": {
      "needs_background": "light"
     },
     "output_type": "display_data"
    }
   ],
   "source": [
    "dpair = [[abalone.M, abalone.F, \"Male/Female\"], [abalone.M, abalone.I, \"Male/Infant\"], [abalone.F, abalone.I, \"Female/Infant\"]]\n",
    "l=len(dpair)\n",
    "j=np.empty((11,l))\n",
    "f=np.empty((l,7))\n",
    "for i in range(l):\n",
    "    X1=dpair[i][0]\n",
    "    X2=dpair[i][1]\n",
    "    Z1=phi(dpair[i][0])\n",
    "    Z2=phi(dpair[i][1])\n",
    "    \n",
    "    w1 = np.array([1,0,0,0,0,0,0])\n",
    "    w2 = np.array([0,1,0,0,0,0,0])\n",
    "    w3 = np.array([0,0,1,0,0,0,0])\n",
    "    w4 = np.array([0,0,0,1,0,0,0])\n",
    "    w5 = np.array([0,0,0,0,1,0,0])\n",
    "    w6 = np.array([0,0,0,0,0,1,0])\n",
    "    w7 = np.array([0,0,0,0,0,0,1])\n",
    "    wm = np.mean(X1,axis=0)-np.mean(X2,axis=0)\n",
    "    wf = fischer(X1,X2)\n",
    "    zm = np.mean(Z1,axis=0)-np.mean(Z2,axis=0)\n",
    "    zf = fischer(Z1,Z2)\n",
    "    \n",
    "    \n",
    "    j[0][i] = J(X1,X2,w1)\n",
    "    j[1][i] = J(X1,X2,w2)\n",
    "    j[2][i] = J(X1,X2,w3)\n",
    "    j[3][i] = J(X1,X2,w4)\n",
    "    j[4][i] = J(X1,X2,w5)\n",
    "    j[5][i] = J(X1,X2,w6)\n",
    "    j[6][i] = J(X1,X2,w7)\n",
    "    \n",
    "    j[7][i] = J(X1,X2,wm)\n",
    "    j[8][i] = J(Z1,Z2,zm)\n",
    "    j[9][i] = J(X1,X2,wf)\n",
    "    j[10][i] = J(Z1,Z2,zf)\n",
    "    \n",
    "    f[i] = wf.T\n",
    "    \n",
    "print(\"         w     M/F        M/I          F/I\")\n",
    "print(\"-----------------------------------------------\")\n",
    "print(\"Dimension 0: {:.5f}      {:.5f}       {:.5f}\".format(j[0][0],j[0][1],j[0][2]))\n",
    "print(\"Dimension 1: {:.5f}      {:.5f}       {:.5f}\".format(j[1][0],j[1][1],j[1][2]))\n",
    "print(\"Dimension 2: {:.5f}      {:.5f}       {:.5f}\".format(j[2][0],j[2][1],j[2][2]))\n",
    "print(\"Dimension 3: {:.5f}      {:.5f}       {:.5f}\".format(j[3][0],j[3][1],j[3][2]))\n",
    "print(\"Dimension 4: {:.5f}      {:.5f}       {:.5f}\".format(j[4][0],j[4][1],j[4][2]))\n",
    "print(\"Dimension 5: {:.5f}      {:.5f}       {:.5f}\".format(j[5][0],j[5][1],j[5][2]))\n",
    "print(\"Dimension 6: {:.5f}      {:.5f}       {:.5f}\".format(j[6][0],j[6][1],j[6][2]))\n",
    "print(\"-----------------------------------------------\")\n",
    "print(\"Means Linear: {:.5f}      {:.5f}       {:.5f}\".format(j[7][0],j[7][1],j[7][2]))\n",
    "print(\"Means Quadratic: {:.5f}      {:.5f}       {:.5f}\".format(j[8][0],j[8][1],j[8][2]))\n",
    "print(\"-----------------------------------------------\")\n",
    "print(\"Fisher Linear: {:.5f}      {:.5f}       {:.5f}\".format(j[9][0],j[9][1],j[9][2]))\n",
    "print(\"Fisher Quadratic: {:.5f}      {:.5f}       {:.5f}\".format(j[10][0],j[10][1],j[10][2]))\n",
    "abalone.plot(f[0],\"Linear Fisher (male/female)\")\n",
    "abalone.plot(f[1],\"Linear Fisher (male/infant)\")\n",
    "abalone.plot(f[2],\"Linear Fisher (female/infant)\")"
   ]
  },
  {
   "cell_type": "code",
   "execution_count": null,
   "metadata": {
    "collapsed": true
   },
   "outputs": [],
   "source": []
  }
 ],
 "metadata": {
  "kernelspec": {
   "display_name": "Python 2",
   "language": "python",
   "name": "python2"
  },
  "language_info": {
   "codemirror_mode": {
    "name": "ipython",
    "version": 2
   },
   "file_extension": ".py",
   "mimetype": "text/x-python",
   "name": "python",
   "nbconvert_exporter": "python",
   "pygments_lexer": "ipython2",
   "version": "2.7.15"
  }
 },
 "nbformat": 4,
 "nbformat_minor": 1
}
