{
 "cells": [
  {
   "cell_type": "markdown",
   "metadata": {},
   "source": [
    "# Fisher Linear Discriminant\n",
    "\n",
    "In this exercise, you will apply Fisher Linear Discriminant as described in Chapter 3.8.2 of Duda et al. on the UCI Abalone dataset. A description of the dataset is given at the page https://archive.ics.uci.edu/ml/datasets/Abalone. The following two methods are provided for your convenience: \n",
    "\n",
    "\n",
    "* **`utils.Abalone.__init__(self)`** reads the Abalone data and instantiates three data matrices of size (1528, 7), (1307, 7), and (1342, 7) corresponding to the three classes in the dataset: *male (M)*, *female (F)*, and *infant (I)*.\n",
    "\n",
    "\n",
    "* **`utils.Abalone.plot(self,w)`** produces a histogram of the data when projected onto a vector `w`, and where each class is shown in a different color.\n",
    "\n",
    "\n",
    "Sample code that makes use of these two methods is given below. It loads the data, looks at the shape of instantiated matrices, and plots various projections of the data: (1) projection on the first dimension of the data, and (2) projection on a random direction."
   ]
  },
  {
   "cell_type": "code",
   "execution_count": 2,
   "metadata": {},
   "outputs": [
    {
     "name": "stdout",
     "output_type": "stream",
     "text": [
      "((1528, 7), (1307, 7), (1342, 7))\n"
     ]
    },
    {
     "data": {
      "image/png": "[encoded data removed]",
      "text/plain": [
       "<matplotlib.figure.Figure at 0x10ab74050>"
      ]
     },
     "metadata": {},
     "output_type": "display_data"
    },
    {
     "data": {
      "image/png": "[encoded data removed]",
      "text/plain": [
       "<matplotlib.figure.Figure at 0x10c223ad0>"
      ]
     },
     "metadata": {},
     "output_type": "display_data"
    }
   ],
   "source": [
    "%matplotlib inline\n",
    "import utils,numpy\n",
    "\n",
    "# Load the data\n",
    "abalone = utils.Abalone()\n",
    "\n",
    "# Print dataset size for each class\n",
    "print(abalone.M.shape,abalone.F.shape, abalone.I.shape)\n",
    "\n",
    "\n",
    "# Project data on the first dimension\n",
    "w1 = numpy.array([1,0,0,0,0,0,0])\n",
    "abalone.plot(w1,'projection on the first dimension')\n",
    "\n",
    "# Project data on a random direction\n",
    "w2 = numpy.random.normal(0,1,[7])\n",
    "w2 /= (w2**2).sum()**.5\n",
    "abalone.plot(w2,'projection on a random direction')"
   ]
  },
  {
   "cell_type": "code",
   "execution_count": null,
   "metadata": {},
   "outputs": [],
   "source": []
  },
  {
   "cell_type": "markdown",
   "metadata": {},
   "source": [
    "## Implementation (30 P)\n",
    "\n",
    "* **Create a method `w = fisher(X1,X2)` that takes as input the data for two classes and returns the Fisher linear discriminant.**\n",
    "\n",
    "\n",
    "* **Create a method `J(X1,X2,w)` that evaluates the objective defined in Equation 96 of Duda et al. for an arbitrary projection vector `w`.**\n",
    "\n",
    "\n",
    "* **Create a method `z = phi(X)` that returns a quadratic expansion for each data point `x` in the dataset. Such expansion consists of the vector `x` itself, to which we concatenate the vector of all pairwise products between elements of `x`.** In other words, letting $x = (x_1,\\dots,x_d)$ denote the $d$-dimensional data point, the quadratic expansion for this data point is a $d \\cdot (d+3)/2$ dimensional vector given by $\\phi(x) = (x_i)_{1 \\leq i \\leq d} \\cup (x_i x_j)_{1 \\leq i \\leq j \\leq d}$. For example, the quadratic expansion for $d=2$ is $(x_1,x_2,x_1^2,x_2^2,x_1 x_2)$."
   ]
  },
  {
   "cell_type": "code",
   "execution_count": 3,
   "metadata": {},
   "outputs": [],
   "source": [
    "def _SW(X1,X2):\n",
    "    return numpy.cov(X1) + numpy.cov(X1)\n",
    "\n",
    "def _SB(X1,X2):\n",
    "    m1 = numpy.mean(X1,axis=1)\n",
    "    m2 = numpy.mean(X2,axis=1)\n",
    "    return numpy.outer(m1,m2)\n",
    "\n",
    "def fisher(X1,X2):\n",
    "    m1 = numpy.mean(X1,axis=1)\n",
    "    m2 = numpy.mean(X2,axis=1)\n",
    "    SW = _SW(X1,X2)\n",
    "    w = numpy.dot(numpy.linalg.inv(SW),(m2-m1))\n",
    "    \n",
    "    return w\n",
    "\n",
    "## X1, X2 of shape (dim,datapoints)\n",
    "def _J(X1,X2,w):\n",
    "    SW=_SW(X1,X2)\n",
    "    SB=_SB(X1,X2)\n",
    "    return ( numpy.dot(numpy.dot(w,SB),w)/numpy.dot(numpy.dot(w,SW),w) )\n",
    "\n",
    "def phi(x):\n",
    "    new_dim = x.shape[0]*(x.shape[0]+3)/2\n",
    "    data = np.zeros(new_dim)\n",
    "    data[0:x.shape[0]] = x\n",
    "    i = x.shape[0]\n",
    "    \n",
    "\n",
    "    for index, element in enumerate(x):\n",
    "        for inner_index, inner_element in enumerate(x):\n",
    "            if inner_index>=index:\n",
    "                data[i] = element*inner_element\n",
    "                i = i +1\n",
    "    return data\n",
    "\n",
    "def phi_matrix(matrix):\n",
    "    new_matrix = []\n",
    "    for i in matrix:\n",
    "        new_matrix.append(phi(i).tolist())\n",
    "    return np.array(new_matrix)\n",
    "\n",
    "    \n",
    "\n",
    "\n"
   ]
  },
  {
   "cell_type": "markdown",
   "metadata": {},
   "source": [
    "## Analysis (20 P)\n",
    "\n",
    "* **Print the value of `J(w)` for each discriminated pair of classes (M/F, M/I, F/I), and for several values of `w`:**\n",
    "\n",
    "  * `w` is a vector that projects the data on the each dimension of the data.\n",
    "  * `w` is the difference between the mean vectors of the two classes.\n",
    "  * `w` is the difference between the mean vectors of the two classes (after quadratic expansion of the data).\n",
    "  * `w` is the Fisher linear discriminant.\n",
    "  * `w` is the Fisher linear discriminant (after quadratic expansion of the data).\n",
    "\n",
    "\n",
    "* **For the simple Fisher linear discriminant, plot a histogram of the projected data for each discriminated pair of classes using the function `utils.Abalone.plot()`.**"
   ]
  },
  {
   "cell_type": "code",
   "execution_count": 5,
   "metadata": {},
   "outputs": [
    {
     "name": "stdout",
     "output_type": "stream",
     "text": [
      "Evaluation for: F/M\n",
      "1. dimension\n",
      "J(W): 21.8966104758\n",
      "----\n",
      "2. dimension\n",
      "J(W): 19.8388927793\n",
      "----\n",
      "3. dimension\n",
      "J(W): 7.4809245949\n",
      "----\n",
      "4. dimension\n",
      "J(W): 2.80170172574\n",
      "----\n",
      "5. dimension\n",
      "J(W): 2.44729633617\n",
      "----\n",
      "6. dimension\n",
      "J(W): 2.60902840696\n",
      "----\n",
      "7. dimension\n",
      "J(W): 2.696978647\n",
      "----\n",
      "difference between the mean vectors of the two classes\n",
      "J(W): 3.75711588204\n",
      "----\n",
      "difference between the mean vectors of the two classes after quadratic expansion of the data\n",
      "J(W): 1.46056723626\n",
      "----\n",
      "w is the Fisher linear discriminant\n",
      "J(W): 52.0039390324\n",
      "----\n",
      "w is the Fisher linear discriminant after quadratic expansion of the data\n",
      "J(W): 2682.37701643\n",
      "----\n"
     ]
    },
    {
     "data": {
      "image/png": "[encoded data removed]",
      "text/plain": [
       "<matplotlib.figure.Figure at 0x10a8a8550>"
      ]
     },
     "metadata": {},
     "output_type": "display_data"
    },
    {
     "name": "stdout",
     "output_type": "stream",
     "text": [
      "Evaluation for: M/I\n",
      "1. dimension\n",
      "J(W): 11.3842100656\n",
      "----\n",
      "2. dimension\n",
      "J(W): 10.0676536482\n",
      "----\n",
      "3. dimension\n",
      "J(W): 6.74801512817\n",
      "----\n",
      "4. dimension\n",
      "J(W): 0.965645875568\n",
      "----\n",
      "5. dimension\n",
      "J(W): 0.8315859022\n",
      "----\n",
      "6. dimension\n",
      "J(W): 0.900811827058\n",
      "----\n",
      "7. dimension\n",
      "J(W): 1.05574290051\n",
      "----\n",
      "difference between the mean vectors of the two classes\n",
      "J(W): 1.31704400658\n",
      "----\n",
      "difference between the mean vectors of the two classes after quadratic expansion of the data\n",
      "J(W): 0.350423724242\n",
      "----\n",
      "w is the Fisher linear discriminant\n",
      "J(W): 12.8854315957\n",
      "----\n",
      "w is the Fisher linear discriminant after quadratic expansion of the data\n",
      "J(W): 7.59722291588\n",
      "----\n"
     ]
    },
    {
     "data": {
      "image/png": "[encoded data removed]",
      "text/plain": [
       "<matplotlib.figure.Figure at 0x10aadb0d0>"
      ]
     },
     "metadata": {},
     "output_type": "display_data"
    },
    {
     "name": "stdout",
     "output_type": "stream",
     "text": [
      "Evaluation for: F/I\n",
      "1. dimension\n",
      "J(W): 16.6838981787\n",
      "----\n",
      "2. dimension\n",
      "J(W): 14.7449967792\n",
      "----\n",
      "3. dimension\n",
      "J(W): 5.33691147683\n",
      "----\n",
      "4. dimension\n",
      "J(W): 1.21895973099\n",
      "----\n",
      "5. dimension\n",
      "J(W): 1.07985592154\n",
      "----\n",
      "6. dimension\n",
      "J(W): 1.11372294974\n",
      "----\n",
      "7. dimension\n",
      "J(W): 1.22603667825\n",
      "----\n",
      "difference between the mean vectors of the two classes\n",
      "J(W): 1.697625917\n",
      "----\n",
      "difference between the mean vectors of the two classes after quadratic expansion of the data\n",
      "J(W): 0.436388370102\n",
      "----\n",
      "w is the Fisher linear discriminant\n",
      "J(W): 41.7284419287\n",
      "----\n",
      "w is the Fisher linear discriminant after quadratic expansion of the data\n",
      "J(W): 2536.6651946\n",
      "----\n"
     ]
    },
    {
     "data": {
      "image/png": "[encoded data removed]",
      "text/plain": [
       "<matplotlib.figure.Figure at 0x10c2d56d0>"
      ]
     },
     "metadata": {},
     "output_type": "display_data"
    }
   ],
   "source": [
    "import numpy as np\n",
    "def proceed_per_combination_of_classes(X1,X2,title):\n",
    "    print(\"Evaluation for: \" + str(title))\n",
    "    _w = [] \n",
    "    \n",
    "    #w is a vector that projects the data on the each dimension of the data.\n",
    "    for index,  w_dim in enumerate(np.identity(7)):\n",
    "        _w.append( [w_dim, str(index+1) + \". dimension\", False ])\n",
    "        \n",
    "    #difference between the mean vectors of the two classes.\n",
    "    _w.append( [numpy.mean(X1,axis=1) - numpy.mean(X2,axis=1) ,\"difference between the mean vectors of the two classes\", False ])\n",
    "    \n",
    "    \n",
    "    #difference between the mean vectors of the two classes (after quadratic expansion of the data).\n",
    "    _w.append(  [numpy.mean(phi_matrix(X1.T),axis=0) - numpy.mean(phi_matrix(X2.T),axis=0),\"difference between the mean vectors of the two classes after quadratic expansion of the data\", True ] ) \n",
    "    \n",
    "    \n",
    "    #w is the Fisher linear discriminant\n",
    "    w_fisher = fisher(X1,X2)\n",
    "    _w.append( [w_fisher,\"w is the Fisher linear discriminant\", False ])\n",
    "    \n",
    "    #w is the Fisher linear discriminant (after quadratic expansion of the data)\n",
    "    _w.append( [fisher( phi_matrix(X1.T).T,phi_matrix(X2.T).T),\"w is the Fisher linear discriminant after quadratic expansion of the data\", True])\n",
    "    \n",
    "    \n",
    "    import pdb\n",
    "    for w in _w:\n",
    "        print(w[1])\n",
    "        if (w[2]==True):\n",
    "            _X1 = phi_matrix(X1.T).T \n",
    "            _X2 = phi_matrix(X2.T).T\n",
    "        else:\n",
    "            _X1 = X1\n",
    "            _X2 = X2\n",
    "        print(\"J(W): \" + str(_J(_X1,_X2,w[0])))\n",
    "        print(\"----\")\n",
    "        \n",
    "    abalone.plot(w_fisher,'projection on fisher direction for classes:' + str(title))\n",
    "\n",
    "\n",
    "\n",
    "proceed_per_combination_of_classes(abalone.F.T,abalone.M.T, \"F/M\")\n",
    "proceed_per_combination_of_classes(abalone.M.T,abalone.I.T, \"M/I\")\n",
    "proceed_per_combination_of_classes(abalone.F.T,abalone.I.T, \"F/I\")\n"
   ]
  }
 ],
 "metadata": {
  "kernelspec": {
   "display_name": "Python 2",
   "language": "python",
   "name": "python2"
  },
  "language_info": {
   "codemirror_mode": {
    "name": "ipython",
    "version": 2
   },
   "file_extension": ".py",
   "mimetype": "text/x-python",
   "name": "python",
   "nbconvert_exporter": "python",
   "pygments_lexer": "ipython2",
   "version": "2.7.13"
  }
 },
 "nbformat": 4,
 "nbformat_minor": 1
}
